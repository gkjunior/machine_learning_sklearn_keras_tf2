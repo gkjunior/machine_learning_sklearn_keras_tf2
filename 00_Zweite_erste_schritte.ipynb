{
  "nbformat": 4,
  "nbformat_minor": 0,
  "metadata": {
    "colab": {
      "name": "00_Zweite_erste_schritte.ipynb",
      "provenance": [],
      "collapsed_sections": [],
      "include_colab_link": true
    },
    "kernelspec": {
      "name": "python3",
      "display_name": "Python 3"
    },
    "language_info": {
      "name": "python"
    }
  },
  "cells": [
    {
      "cell_type": "markdown",
      "metadata": {
        "id": "view-in-github",
        "colab_type": "text"
      },
      "source": [
        "<a href=\"https://colab.research.google.com/github/gkjunior/machine_learning_sklearn_keras_tf2/blob/main/00_Zweite_erste_schritte.ipynb\" target=\"_parent\"><img src=\"https://colab.research.google.com/assets/colab-badge.svg\" alt=\"Open In Colab\"/></a>"
      ]
    },
    {
      "cell_type": "code",
      "metadata": {
        "colab": {
          "base_uri": "https://localhost:8080/"
        },
        "id": "mqSsVA58V2D4",
        "outputId": "f66b8ede-24cd-49b9-dbaf-646e26b3dce7"
      },
      "source": [
        "# Die Anfänge:\n",
        "# wieder mit Housing. Als erstes ein working directory anlegen und das file downloaden.\n",
        "\n",
        "import os\n",
        "import tarfile\n",
        "import urllib.request\n",
        "import glob\n",
        "\n",
        "print(os.getcwd() +' :'+ str('GoogleColab-Home-Verzeichnis'))\n",
        "\n",
        "DOWNLOAD_ROOT = \"https://raw.githubusercontent.com/ageron/handson-ml2/master/\"\n",
        "\n",
        "HOUSING_PATH = os.path.join(\"datasets\", \"housing\")\n",
        "HOUSING_URL = DOWNLOAD_ROOT + \"datasets/housing/housing.tgz\"\n",
        "\n",
        "# Funtion zum fetchen der URL:\n",
        "\n",
        "def fetch_url(url_file = HOUSING_URL, path_file = HOUSING_PATH):\n",
        "  \"\"\"\n",
        "  Funktion zum abgreifen von Files aus dem Github\n",
        "  Erstellt wenn nötig das Verzeichnis und entpackt das file drin.\n",
        "  \"\"\"\n",
        "  os.makedirs(path_file, exist_ok = True)\n",
        "  tgz_path = os.path.join(path_file, \"housing.tgz\")\n",
        "  urllib.request.urlretrieve(url_file, tgz_path)\n",
        "  housing_tgz = tarfile.open(tgz_path)\n",
        "  housing_tgz.extractall(path = path_file)\n",
        "  housing_tgz.close()\n",
        "  print(f\"Datei entpackt in {glob.glob(tgz_path)}\")\n",
        "\n",
        "fetch_url()\n"
      ],
      "execution_count": 1,
      "outputs": [
        {
          "output_type": "stream",
          "name": "stdout",
          "text": [
            "/content :GoogleColab-Home-Verzeichnis\n",
            "Datei entpackt in ['datasets/housing/housing.tgz']\n"
          ]
        }
      ]
    },
    {
      "cell_type": "code",
      "metadata": {
        "id": "UpMtdRh2ZEDc"
      },
      "source": [
        ""
      ],
      "execution_count": 1,
      "outputs": []
    },
    {
      "cell_type": "code",
      "metadata": {
        "id": "Q9zKgPO60eSu"
      },
      "source": [
        ""
      ],
      "execution_count": null,
      "outputs": []
    }
  ]
}